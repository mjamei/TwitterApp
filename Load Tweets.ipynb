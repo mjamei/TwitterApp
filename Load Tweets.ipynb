{
 "metadata": {
  "name": "",
  "signature": "sha256:d6314ae67e5db88da478100ade8a3d6922d95547381f68c07380b7e5faf3cd70"
 },
 "nbformat": 3,
 "nbformat_minor": 0,
 "worksheets": [
  {
   "cells": [
    {
     "cell_type": "code",
     "collapsed": false,
     "input": [
      "import pandas as pd"
     ],
     "language": "python",
     "metadata": {},
     "outputs": [],
     "prompt_number": 1
    },
    {
     "cell_type": "code",
     "collapsed": false,
     "input": [
      "df=pd.read_csv('output.csv',error_bad_lines=False)"
     ],
     "language": "python",
     "metadata": {},
     "outputs": [],
     "prompt_number": 29
    },
    {
     "cell_type": "code",
     "collapsed": false,
     "input": [
      "df.columns = ['Timestamp', 'text','place']\n",
      "print df.shape"
     ],
     "language": "python",
     "metadata": {},
     "outputs": [
      {
       "output_type": "stream",
       "stream": "stdout",
       "text": [
        "(11204, 3)\n"
       ]
      }
     ],
     "prompt_number": 30
    },
    {
     "cell_type": "code",
     "collapsed": false,
     "input": [
      "df[:10]"
     ],
     "language": "python",
     "metadata": {},
     "outputs": [
      {
       "html": [
        "<div style=\"max-height:1000px;max-width:1500px;overflow:auto;\">\n",
        "<table border=\"1\" class=\"dataframe\">\n",
        "  <thead>\n",
        "    <tr style=\"text-align: right;\">\n",
        "      <th></th>\n",
        "      <th>Timestamp</th>\n",
        "      <th>text</th>\n",
        "      <th>place</th>\n",
        "    </tr>\n",
        "  </thead>\n",
        "  <tbody>\n",
        "    <tr>\n",
        "      <th>0</th>\n",
        "      <td>                 NaN</td>\n",
        "      <td>                                               NaN</td>\n",
        "      <td>       NaN</td>\n",
        "    </tr>\n",
        "    <tr>\n",
        "      <th>1</th>\n",
        "      <td> 2014-08-05 01:04:20</td>\n",
        "      <td> I witnessed my puppy die and that took a tole ...</td>\n",
        "      <td>    Topeka</td>\n",
        "    </tr>\n",
        "    <tr>\n",
        "      <th>2</th>\n",
        "      <td>                 NaN</td>\n",
        "      <td>                                               NaN</td>\n",
        "      <td>       NaN</td>\n",
        "    </tr>\n",
        "    <tr>\n",
        "      <th>3</th>\n",
        "      <td> 2014-08-05 00:49:37</td>\n",
        "      <td> @COLRICHARDKEMP #FreePalestine from George Gal...</td>\n",
        "      <td>  Aberdeen</td>\n",
        "    </tr>\n",
        "    <tr>\n",
        "      <th>4</th>\n",
        "      <td>                 NaN</td>\n",
        "      <td>                                               NaN</td>\n",
        "      <td>       NaN</td>\n",
        "    </tr>\n",
        "    <tr>\n",
        "      <th>5</th>\n",
        "      <td> 2014-08-05 00:45:27</td>\n",
        "      <td>                                  #GazaUnderAttack</td>\n",
        "      <td> Minnesota</td>\n",
        "    </tr>\n",
        "    <tr>\n",
        "      <th>6</th>\n",
        "      <td>                 NaN</td>\n",
        "      <td>                                               NaN</td>\n",
        "      <td>       NaN</td>\n",
        "    </tr>\n",
        "    <tr>\n",
        "      <th>7</th>\n",
        "      <td> 2014-08-05 00:41:06</td>\n",
        "      <td> Tasers are so coral. #SearchForTheBaddest #Fre...</td>\n",
        "      <td>  Sayville</td>\n",
        "    </tr>\n",
        "    <tr>\n",
        "      <th>8</th>\n",
        "      <td>                 NaN</td>\n",
        "      <td>                                               NaN</td>\n",
        "      <td>       NaN</td>\n",
        "    </tr>\n",
        "    <tr>\n",
        "      <th>9</th>\n",
        "      <td> 2014-08-05 00:30:48</td>\n",
        "      <td> @Bahrain4Unite @el_cid_01 your comments  don't...</td>\n",
        "      <td>    Kansas</td>\n",
        "    </tr>\n",
        "  </tbody>\n",
        "</table>\n",
        "</div>"
       ],
       "metadata": {},
       "output_type": "pyout",
       "prompt_number": 18,
       "text": [
        "             Timestamp                                               text  \\\n",
        "0                  NaN                                                NaN   \n",
        "1  2014-08-05 01:04:20  I witnessed my puppy die and that took a tole ...   \n",
        "2                  NaN                                                NaN   \n",
        "3  2014-08-05 00:49:37  @COLRICHARDKEMP #FreePalestine from George Gal...   \n",
        "4                  NaN                                                NaN   \n",
        "5  2014-08-05 00:45:27                                   #GazaUnderAttack   \n",
        "6                  NaN                                                NaN   \n",
        "7  2014-08-05 00:41:06  Tasers are so coral. #SearchForTheBaddest #Fre...   \n",
        "8                  NaN                                                NaN   \n",
        "9  2014-08-05 00:30:48  @Bahrain4Unite @el_cid_01 your comments  don't...   \n",
        "\n",
        "       place  \n",
        "0        NaN  \n",
        "1     Topeka  \n",
        "2        NaN  \n",
        "3   Aberdeen  \n",
        "4        NaN  \n",
        "5  Minnesota  \n",
        "6        NaN  \n",
        "7   Sayville  \n",
        "8        NaN  \n",
        "9     Kansas  "
       ]
      }
     ],
     "prompt_number": 18
    },
    {
     "cell_type": "code",
     "collapsed": false,
     "input": [
      "df=df.drop_duplicates(cols='text')\n",
      "print df.shape"
     ],
     "language": "python",
     "metadata": {},
     "outputs": [
      {
       "output_type": "stream",
       "stream": "stdout",
       "text": [
        "(1115, 3)\n"
       ]
      }
     ],
     "prompt_number": 31
    },
    {
     "cell_type": "code",
     "collapsed": false,
     "input": [
      "df.reindex(range(df.shape[0]))\n",
      "df[-10:]"
     ],
     "language": "python",
     "metadata": {},
     "outputs": [
      {
       "html": [
        "<div style=\"max-height:1000px;max-width:1500px;overflow:auto;\">\n",
        "<table border=\"1\" class=\"dataframe\">\n",
        "  <thead>\n",
        "    <tr style=\"text-align: right;\">\n",
        "      <th></th>\n",
        "      <th>Timestamp</th>\n",
        "      <th>text</th>\n",
        "      <th>place</th>\n",
        "    </tr>\n",
        "  </thead>\n",
        "  <tbody>\n",
        "    <tr>\n",
        "      <th>5921 </th>\n",
        "      <td> 2014-08-05 01:40:26</td>\n",
        "      <td> Why can't we all be humble enough to coexist #...</td>\n",
        "      <td>             San Jose</td>\n",
        "    </tr>\n",
        "    <tr>\n",
        "      <th>5923 </th>\n",
        "      <td> 2014-08-05 01:35:21</td>\n",
        "      <td> We don't need no one with is, as long as God i...</td>\n",
        "      <td> North Richland Hills</td>\n",
        "    </tr>\n",
        "    <tr>\n",
        "      <th>5925 </th>\n",
        "      <td> 2014-08-05 01:33:59</td>\n",
        "      <td> When we see a movie and a kid gets hurt, we fe...</td>\n",
        "      <td> North Richland Hills</td>\n",
        "    </tr>\n",
        "    <tr>\n",
        "      <th>5927 </th>\n",
        "      <td> 2014-08-05 01:17:08</td>\n",
        "      <td> @seanhannity it's pitiful how #foxnews tries t...</td>\n",
        "      <td>        North Olmsted</td>\n",
        "    </tr>\n",
        "    <tr>\n",
        "      <th>5929 </th>\n",
        "      <td> 2014-08-05 01:05:42</td>\n",
        "      <td> Theres no way i could kill another human being...</td>\n",
        "      <td>               Topeka</td>\n",
        "    </tr>\n",
        "    <tr>\n",
        "      <th>7917 </th>\n",
        "      <td> 2014-08-05 02:05:26</td>\n",
        "      <td> How difficult it must be for a true human righ...</td>\n",
        "      <td>      Upper Arlington</td>\n",
        "    </tr>\n",
        "    <tr>\n",
        "      <th>7919 </th>\n",
        "      <td> 2014-08-05 02:04:35</td>\n",
        "      <td> So many @IDFSpokesperson on my tv all day I fe...</td>\n",
        "      <td>              Hanford</td>\n",
        "    </tr>\n",
        "    <tr>\n",
        "      <th>9917 </th>\n",
        "      <td> 2014-08-05 02:33:53</td>\n",
        "      <td>                          Yo @Drake #FreePalestine</td>\n",
        "      <td>              Chicago</td>\n",
        "    </tr>\n",
        "    <tr>\n",
        "      <th>9919 </th>\n",
        "      <td> 2014-08-05 02:30:20</td>\n",
        "      <td> @seanhannity can you stop by #GazaUnderAttack ...</td>\n",
        "      <td>             New York</td>\n",
        "    </tr>\n",
        "    <tr>\n",
        "      <th>11203</th>\n",
        "      <td> 2014-08-01 03:31:13</td>\n",
        "      <td> And I can't even believe I live in a world whe...</td>\n",
        "      <td>                  NaN</td>\n",
        "    </tr>\n",
        "  </tbody>\n",
        "</table>\n",
        "</div>"
       ],
       "metadata": {},
       "output_type": "pyout",
       "prompt_number": 32,
       "text": [
        "                 Timestamp                                               text  \\\n",
        "5921   2014-08-05 01:40:26  Why can't we all be humble enough to coexist #...   \n",
        "5923   2014-08-05 01:35:21  We don't need no one with is, as long as God i...   \n",
        "5925   2014-08-05 01:33:59  When we see a movie and a kid gets hurt, we fe...   \n",
        "5927   2014-08-05 01:17:08  @seanhannity it's pitiful how #foxnews tries t...   \n",
        "5929   2014-08-05 01:05:42  Theres no way i could kill another human being...   \n",
        "7917   2014-08-05 02:05:26  How difficult it must be for a true human righ...   \n",
        "7919   2014-08-05 02:04:35  So many @IDFSpokesperson on my tv all day I fe...   \n",
        "9917   2014-08-05 02:33:53                           Yo @Drake #FreePalestine   \n",
        "9919   2014-08-05 02:30:20  @seanhannity can you stop by #GazaUnderAttack ...   \n",
        "11203  2014-08-01 03:31:13  And I can't even believe I live in a world whe...   \n",
        "\n",
        "                      place  \n",
        "5921               San Jose  \n",
        "5923   North Richland Hills  \n",
        "5925   North Richland Hills  \n",
        "5927          North Olmsted  \n",
        "5929                 Topeka  \n",
        "7917        Upper Arlington  \n",
        "7919                Hanford  \n",
        "9917                Chicago  \n",
        "9919               New York  \n",
        "11203                   NaN  "
       ]
      }
     ],
     "prompt_number": 32
    },
    {
     "cell_type": "code",
     "collapsed": false,
     "input": [],
     "language": "python",
     "metadata": {},
     "outputs": []
    }
   ],
   "metadata": {}
  }
 ]
}
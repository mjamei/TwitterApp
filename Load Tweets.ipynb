{
 "metadata": {
  "name": "",
  "signature": "sha256:661a2ecc474b6c76b537e067e8257e357428a3a26ae214bc276158c7500a32fb"
 },
 "nbformat": 3,
 "nbformat_minor": 0,
 "worksheets": [
  {
   "cells": [
    {
     "cell_type": "code",
     "collapsed": false,
     "input": [
      "import pandas as pd"
     ],
     "language": "python",
     "metadata": {},
     "outputs": [],
     "prompt_number": 2
    },
    {
     "cell_type": "code",
     "collapsed": false,
     "input": [
      "df=pd.read_csv('output.csv')"
     ],
     "language": "python",
     "metadata": {},
     "outputs": [],
     "prompt_number": 44
    },
    {
     "cell_type": "code",
     "collapsed": false,
     "input": [
      "print df.shape"
     ],
     "language": "python",
     "metadata": {},
     "outputs": [
      {
       "output_type": "stream",
       "stream": "stdout",
       "text": [
        "(5192, 4)\n"
       ]
      }
     ],
     "prompt_number": 45
    },
    {
     "cell_type": "code",
     "collapsed": false,
     "input": [
      "df=df.drop_duplicates(cols='text')\n",
      "print df.shape"
     ],
     "language": "python",
     "metadata": {},
     "outputs": [
      {
       "output_type": "stream",
       "stream": "stdout",
       "text": [
        "(1240, 4)\n"
       ]
      }
     ],
     "prompt_number": 46
    },
    {
     "cell_type": "code",
     "collapsed": false,
     "input": [
      "df[10:20]"
     ],
     "language": "python",
     "metadata": {},
     "outputs": [
      {
       "html": [
        "<div style=\"max-height:1000px;max-width:1500px;overflow:auto;\">\n",
        "<table border=\"1\" class=\"dataframe\">\n",
        "  <thead>\n",
        "    <tr style=\"text-align: right;\">\n",
        "      <th></th>\n",
        "      <th>timestamp</th>\n",
        "      <th>text</th>\n",
        "      <th>Place</th>\n",
        "      <th>Place_id</th>\n",
        "    </tr>\n",
        "  </thead>\n",
        "  <tbody>\n",
        "    <tr>\n",
        "      <th>10</th>\n",
        "      <td> 8/4/14 21:01</td>\n",
        "      <td> @Palestinianism @JamilaHanan At this point it'...</td>\n",
        "      <td>                Salem</td>\n",
        "      <td> 96683cc9126741d1</td>\n",
        "    </tr>\n",
        "    <tr>\n",
        "      <th>11</th>\n",
        "      <td> 8/4/14 20:56</td>\n",
        "      <td> Israel has been killing children way before ha...</td>\n",
        "      <td> North Richland Hills</td>\n",
        "      <td> 96683cc9126741d1</td>\n",
        "    </tr>\n",
        "    <tr>\n",
        "      <th>12</th>\n",
        "      <td> 8/4/14 20:52</td>\n",
        "      <td>   @mimimayesTN nice follower ratio #FreePalestine</td>\n",
        "      <td>             Westlake</td>\n",
        "      <td> 96683cc9126741d1</td>\n",
        "    </tr>\n",
        "    <tr>\n",
        "      <th>13</th>\n",
        "      <td> 8/4/14 20:16</td>\n",
        "      <td> @AliAbunimah @ intifada  never again? Coming f...</td>\n",
        "      <td>               Kansas</td>\n",
        "      <td> 96683cc9126741d1</td>\n",
        "    </tr>\n",
        "    <tr>\n",
        "      <th>14</th>\n",
        "      <td> 8/4/14 20:06</td>\n",
        "      <td> @seanhannity do us all a favor,stay there, for...</td>\n",
        "      <td>             Beaumont</td>\n",
        "      <td> 96683cc9126741d1</td>\n",
        "    </tr>\n",
        "    <tr>\n",
        "      <th>15</th>\n",
        "      <td> 8/4/14 20:00</td>\n",
        "      <td> #Palestine resistance an #Israel agree to 72hr...</td>\n",
        "      <td>            Cleveland</td>\n",
        "      <td> 96683cc9126741d1</td>\n",
        "    </tr>\n",
        "    <tr>\n",
        "      <th>16</th>\n",
        "      <td> 8/4/14 19:56</td>\n",
        "      <td> This is not a war it's a systematic genocide #...</td>\n",
        "      <td>                Texas</td>\n",
        "      <td> 96683cc9126741d1</td>\n",
        "    </tr>\n",
        "    <tr>\n",
        "      <th>17</th>\n",
        "      <td> 8/4/14 19:52</td>\n",
        "      <td> Was John Voight the only choice for the #Israe...</td>\n",
        "      <td>        Thousand Oaks</td>\n",
        "      <td> 96683cc9126741d1</td>\n",
        "    </tr>\n",
        "    <tr>\n",
        "      <th>18</th>\n",
        "      <td> 8/4/14 19:30</td>\n",
        "      <td> @seanhannity maybe your outlook on life will c...</td>\n",
        "      <td>            Cleveland</td>\n",
        "      <td> 96683cc9126741d1</td>\n",
        "    </tr>\n",
        "    <tr>\n",
        "      <th>19</th>\n",
        "      <td> 8/4/14 19:30</td>\n",
        "      <td> Grammar of my last tweet was so horrendous tha...</td>\n",
        "      <td>        Fairview Park</td>\n",
        "      <td> 96683cc9126741d1</td>\n",
        "    </tr>\n",
        "  </tbody>\n",
        "</table>\n",
        "</div>"
       ],
       "metadata": {},
       "output_type": "pyout",
       "prompt_number": 47,
       "text": [
        "       timestamp                                               text  \\\n",
        "10  8/4/14 21:01  @Palestinianism @JamilaHanan At this point it'...   \n",
        "11  8/4/14 20:56  Israel has been killing children way before ha...   \n",
        "12  8/4/14 20:52    @mimimayesTN nice follower ratio #FreePalestine   \n",
        "13  8/4/14 20:16  @AliAbunimah @ intifada  never again? Coming f...   \n",
        "14  8/4/14 20:06  @seanhannity do us all a favor,stay there, for...   \n",
        "15  8/4/14 20:00  #Palestine resistance an #Israel agree to 72hr...   \n",
        "16  8/4/14 19:56  This is not a war it's a systematic genocide #...   \n",
        "17  8/4/14 19:52  Was John Voight the only choice for the #Israe...   \n",
        "18  8/4/14 19:30  @seanhannity maybe your outlook on life will c...   \n",
        "19  8/4/14 19:30  Grammar of my last tweet was so horrendous tha...   \n",
        "\n",
        "                   Place          Place_id  \n",
        "10                 Salem  96683cc9126741d1  \n",
        "11  North Richland Hills  96683cc9126741d1  \n",
        "12              Westlake  96683cc9126741d1  \n",
        "13                Kansas  96683cc9126741d1  \n",
        "14              Beaumont  96683cc9126741d1  \n",
        "15             Cleveland  96683cc9126741d1  \n",
        "16                 Texas  96683cc9126741d1  \n",
        "17         Thousand Oaks  96683cc9126741d1  \n",
        "18             Cleveland  96683cc9126741d1  \n",
        "19         Fairview Park  96683cc9126741d1  "
       ]
      }
     ],
     "prompt_number": 47
    },
    {
     "cell_type": "code",
     "collapsed": false,
     "input": [],
     "language": "python",
     "metadata": {},
     "outputs": []
    }
   ],
   "metadata": {}
  }
 ]
}
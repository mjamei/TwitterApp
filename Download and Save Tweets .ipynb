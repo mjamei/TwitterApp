{
 "metadata": {
  "name": "",
  "signature": "sha256:6bfb28b87113451c6f73af5cb63b12d2cdcbbb8533a11fdd05017541cacd34c8"
 },
 "nbformat": 3,
 "nbformat_minor": 0,
 "worksheets": [
  {
   "cells": [
    {
     "cell_type": "code",
     "collapsed": false,
     "input": [
      "from tweepy import *\n",
      "import csv\n",
      "import time\n",
      "import pandas as pd\n",
      "import numpy as np"
     ],
     "language": "python",
     "metadata": {},
     "outputs": [],
     "prompt_number": 7
    },
    {
     "cell_type": "code",
     "collapsed": false,
     "input": [
      "#filename=\"output.csv\"\n",
      "df=pd.DataFrame(columns=('timestamp','text','location'))\n",
      "#row = [ \"timestamp\", \"text\",\"Place\",\"Place_id\"]\n",
      "#csvwriter.writerow(row)\n",
      "auth = OAuthHandler('WUHZo5SCODGTpPAp0ZpRpfOLl','40ycXYsctvAsFw1Vdk2JIEjwHzlrRdsdXJZjSi9jGqbWFBdvva')\n",
      "auth.set_access_token('46493229-jEZKPXwzmflSdLB3FRqWyGWxAKPj3zoR1HE6EFUcE', 'jAKW3WQoqbv9Ri5HmWULDQgeH7YHJ6YVjDeWhcbfM4iwa')\n",
      "\n",
      "api = API(auth, monitor_rate_limit=True,wait_on_rate_limit=True)\n",
      "\n",
      "places = api.geo_search(query=\"USA\", granularity=\"country\")\n",
      "place_id = places[0].id\n",
      "#searchQuery='GazaUnderAttack&-%23IsraelUnderAttack%20-%23IsraelUnderFire%20-pic%20-http:%20%23GazaUnderAttack%20OR%20%23FreePalestine%20OR%20%23FreeGaza'\n",
      "searchQuery=\"-http%20-RT%20-%23IsraelUnderFire%20-pic%20-filter%3Alinks%20%23GazaUnderAttack%20OR%20%23FreePalestine%20OR%20%23FreeGaza&src=typd\"\n",
      "#\"&place:%s\" % place_id\n",
      "#for pagenum in range(1, 5):\n",
      "    #csvfile = file(filename, \"a\")\n",
      "    #csvwriter = csv.writer(csvfile)\n",
      "page_count=0\n",
      "for tweets in Cursor(api.search,q=searchQuery+\"&place:%s\" % place_id,\n",
      "                    rpp=100,\n",
      "                    result_type=\"recent\",\n",
      "                    lang=\"en\").pages():\n",
      "    page_count+=1\n",
      "for index,tweet in enumerate(tweets):\n",
      "    text=tweet.text.encode('utf-8',errors='replace')\n",
      "    place=tweet.place.name\n",
      "    tweet_id=tweet.place\n",
      "    df.loc[index]=np.array([tweet.created_at,text,place])\n",
      "print \"Page :\"+page_count\n",
      "if page_count>=2:\n",
      "    break"
     ],
     "language": "python",
     "metadata": {},
     "outputs": [
      {
       "ename": "TypeError",
       "evalue": "__init__() got an unexpected keyword argument 'monitor_rate_limit'",
       "output_type": "pyerr",
       "traceback": [
        "\u001b[1;31m---------------------------------------------------------------------------\u001b[0m\n\u001b[1;31mTypeError\u001b[0m                                 Traceback (most recent call last)",
        "\u001b[1;32m<ipython-input-3-8c5404e8632f>\u001b[0m in \u001b[0;36m<module>\u001b[1;34m()\u001b[0m\n\u001b[0;32m      6\u001b[0m \u001b[0mauth\u001b[0m\u001b[1;33m.\u001b[0m\u001b[0mset_access_token\u001b[0m\u001b[1;33m(\u001b[0m\u001b[1;34m'46493229-jEZKPXwzmflSdLB3FRqWyGWxAKPj3zoR1HE6EFUcE'\u001b[0m\u001b[1;33m,\u001b[0m \u001b[1;34m'jAKW3WQoqbv9Ri5HmWULDQgeH7YHJ6YVjDeWhcbfM4iwa'\u001b[0m\u001b[1;33m)\u001b[0m\u001b[1;33m\u001b[0m\u001b[0m\n\u001b[0;32m      7\u001b[0m \u001b[1;33m\u001b[0m\u001b[0m\n\u001b[1;32m----> 8\u001b[1;33m \u001b[0mapi\u001b[0m \u001b[1;33m=\u001b[0m \u001b[0mAPI\u001b[0m\u001b[1;33m(\u001b[0m\u001b[1;33m[\u001b[0m\u001b[0mauth\u001b[0m\u001b[1;33m]\u001b[0m\u001b[1;33m,\u001b[0m \u001b[0mmonitor_rate_limit\u001b[0m\u001b[1;33m=\u001b[0m\u001b[0mTrue\u001b[0m\u001b[1;33m,\u001b[0m\u001b[0mwait_on_rate_limit\u001b[0m\u001b[1;33m=\u001b[0m\u001b[0mTrue\u001b[0m\u001b[1;33m)\u001b[0m\u001b[1;33m\u001b[0m\u001b[0m\n\u001b[0m\u001b[0;32m      9\u001b[0m \u001b[1;33m\u001b[0m\u001b[0m\n\u001b[0;32m     10\u001b[0m \u001b[0mplaces\u001b[0m \u001b[1;33m=\u001b[0m \u001b[0mapi\u001b[0m\u001b[1;33m.\u001b[0m\u001b[0mgeo_search\u001b[0m\u001b[1;33m(\u001b[0m\u001b[0mquery\u001b[0m\u001b[1;33m=\u001b[0m\u001b[1;34m\"USA\"\u001b[0m\u001b[1;33m,\u001b[0m \u001b[0mgranularity\u001b[0m\u001b[1;33m=\u001b[0m\u001b[1;34m\"country\"\u001b[0m\u001b[1;33m)\u001b[0m\u001b[1;33m\u001b[0m\u001b[0m\n",
        "\u001b[1;31mTypeError\u001b[0m: __init__() got an unexpected keyword argument 'monitor_rate_limit'"
       ]
      }
     ],
     "prompt_number": 3
    },
    {
     "cell_type": "code",
     "collapsed": false,
     "input": [],
     "language": "python",
     "metadata": {},
     "outputs": []
    },
    {
     "cell_type": "code",
     "collapsed": false,
     "input": [
      "df.shape"
     ],
     "language": "python",
     "metadata": {},
     "outputs": [
      {
       "metadata": {},
       "output_type": "pyout",
       "prompt_number": 7,
       "text": [
        "(100, 3)"
       ]
      }
     ],
     "prompt_number": 7
    },
    {
     "cell_type": "code",
     "collapsed": false,
     "input": [],
     "language": "python",
     "metadata": {},
     "outputs": []
    }
   ],
   "metadata": {}
  }
 ]
}
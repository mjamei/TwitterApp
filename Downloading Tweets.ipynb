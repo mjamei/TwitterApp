{
 "metadata": {
  "name": "",
  "signature": "sha256:d47a4da286d5737f2ae9afaa1dbfb6ad3f0641aa95128dfcfbf172efc7a678d3"
 },
 "nbformat": 3,
 "nbformat_minor": 0,
 "worksheets": [
  {
   "cells": [
    {
     "cell_type": "code",
     "collapsed": false,
     "input": [
      "#import twitter\n",
      "import time\n",
      "from TwitterSearch import *\n",
      "from pygeocoder import Geocoder\n",
      "from twitter import *"
     ],
     "language": "python",
     "metadata": {},
     "outputs": [],
     "prompt_number": 113
    },
    {
     "cell_type": "code",
     "collapsed": false,
     "input": [
      "api = twitter.Api(consumer_key='WUHZo5SCODGTpPAp0ZpRpfOLl',\n",
      "                      consumer_secret='40ycXYsctvAsFw1Vdk2JIEjwHzlrRdsdXJZjSi9jGqbWFBdvva',\n",
      "                      access_token_key='46493229-jEZKPXwzmflSdLB3FRqWyGWxAKPj3zoR1HE6EFUcE',\n",
      "                      access_token_secret='jAKW3WQoqbv9Ri5HmWULDQgeH7YHJ6YVjDeWhcbfM4iwa')\n",
      "ts = TwitterSearch(\n",
      "        consumer_key = 'WUHZo5SCODGTpPAp0ZpRpfOLl',\n",
      "        consumer_secret = '40ycXYsctvAsFw1Vdk2JIEjwHzlrRdsdXJZjSi9jGqbWFBdvva',\n",
      "        access_token = '46493229-jEZKPXwzmflSdLB3FRqWyGWxAKPj3zoR1HE6EFUcE',\n",
      "        access_token_secret = 'jAKW3WQoqbv9Ri5HmWULDQgeH7YHJ6YVjDeWhcbfM4iwa'\n",
      "     )"
     ],
     "language": "python",
     "metadata": {},
     "outputs": [],
     "prompt_number": 3
    },
    {
     "cell_type": "code",
     "collapsed": false,
     "input": [
      "api.GET"
     ],
     "language": "python",
     "metadata": {},
     "outputs": []
    },
    {
     "cell_type": "code",
     "collapsed": false,
     "input": [
      "print api.VerifyCredentials()"
     ],
     "language": "python",
     "metadata": {},
     "outputs": [
      {
       "output_type": "stream",
       "stream": "stdout",
       "text": [
        "{\"created_at\": \"Thu Jun 11 21:15:29 +0000 2009\", \"favourites_count\": 57, \"followers_count\": 117, \"friends_count\": 247, \"geo_enabled\": true, \"id\": 46493229, \"lang\": \"en\", \"listed_count\": 2, \"location\": \"Berkeley, CA\", \"name\": \"Mehdi Jamei\", \"profile_background_color\": \"ACDED6\", \"profile_background_image_url\": \"http://abs.twimg.com/images/themes/theme18/bg.gif\", \"profile_background_tile\": false, \"profile_banner_url\": \"https://pbs.twimg.com/profile_banners/46493229/1360283818\", \"profile_image_url\": \"https://pbs.twimg.com/profile_images/3222547411/5acf7dc0195eeff562045487c114d5fc_normal.jpeg\", \"profile_link_color\": \"038543\", \"profile_sidebar_fill_color\": \"F6F6F6\", \"profile_text_color\": \"333333\", \"protected\": false, \"screen_name\": \"mjamei\", \"status\": {\"created_at\": \"Mon Aug 04 03:52:59 +0000 2014\", \"favorited\": false, \"id\": 496141722661822464, \"in_reply_to_screen_name\": \"HamidDabashi\", \"in_reply_to_status_id\": 496129970389807104, \"in_reply_to_user_id\": 633014017, \"lang\": \"en\", \"retweeted\": false, \"source\": \"<a href=\\\"http://twitter.com/download/android\\\" rel=\\\"nofollow\\\">Twitter for Android</a>\", \"text\": \"@HamidDabashi Dear Dr.Dabashi, please tweet the title of your article instead of its first few words. This way we know what it is about. :-)\", \"truncated\": false, \"user_mentions\": [{\"id\": 633014017, \"name\": \"Hamid Dabashi\", \"screen_name\": \"HamidDabashi\"}]}, \"statuses_count\": 803, \"url\": \"http://t.co/5FotKKBHx2\"}\n"
       ]
      }
     ],
     "prompt_number": 10
    },
    {
     "cell_type": "code",
     "collapsed": false,
     "input": [
      "try:\n",
      "    tso = TwitterSearchOrder() # create a TwitterSearchOrder object\n",
      "    #tso.setKeywords(['#FreePalestine', 'Israel']) # let's define all words we would like to have a look for\n",
      "    #tso.setLanguage('en') # we want to see English tweets only\n",
      "    #tso.setCount(7) # please dear Mr Twitter, only give us 7 results per page\n",
      "    #tso.setIncludeEntities(False) # and don't give us all those entity information\n",
      "#IsraelUnderFire -pic -filter:links #GazaUnderFire OR #GazaUnderAttack OR #FreePalestine OR #FreeGaza lang:en near:\"United States\" within:15mi\n",
      "    # it's about time to create a TwitterSearch object with our secret tokens\n",
      "    tso.setSearchURL('q=-%23IsraelUnderFire%20-pic%20-filter%3Alinks%20%23GazaUnderFire%20OR%20%23GazaUnderAttack%20OR%20%23FreePalestine%20OR%20%23FreeGaza%20lang%3Aen&src=typd')\n",
      "    \n",
      "\n",
      "    for tweet in ts.searchTweetsIterable(tso): # this is where the fun actually starts :)\n",
      "        print( '@%s tweeted: %s' % ( tweet['user']['screen_name'], tweet['text'] ) )\n",
      "\n",
      "except TwitterSearchException as e: # take care of all those ugly errors if there are some\n",
      "    print(e)"
     ],
     "language": "python",
     "metadata": {},
     "outputs": [
      {
       "ename": "KeyError",
       "evalue": "'count'",
       "output_type": "pyerr",
       "traceback": [
        "\u001b[0;31m---------------------------------------------------------------------------\u001b[0m\n\u001b[0;31mKeyError\u001b[0m                                  Traceback (most recent call last)",
        "\u001b[0;32m<ipython-input-15-b627f610c403>\u001b[0m in \u001b[0;36m<module>\u001b[0;34m()\u001b[0m\n\u001b[1;32m     15\u001b[0m      )\n\u001b[1;32m     16\u001b[0m \u001b[0;34m\u001b[0m\u001b[0m\n\u001b[0;32m---> 17\u001b[0;31m     \u001b[0;32mfor\u001b[0m \u001b[0mtweet\u001b[0m \u001b[0;32min\u001b[0m \u001b[0mts\u001b[0m\u001b[0;34m.\u001b[0m\u001b[0msearchTweetsIterable\u001b[0m\u001b[0;34m(\u001b[0m\u001b[0mtso\u001b[0m\u001b[0;34m)\u001b[0m\u001b[0;34m:\u001b[0m \u001b[0;31m# this is where the fun actually starts :)\u001b[0m\u001b[0;34m\u001b[0m\u001b[0m\n\u001b[0m\u001b[1;32m     18\u001b[0m         \u001b[0;32mprint\u001b[0m\u001b[0;34m(\u001b[0m \u001b[0;34m'@%s tweeted: %s'\u001b[0m \u001b[0;34m%\u001b[0m \u001b[0;34m(\u001b[0m \u001b[0mtweet\u001b[0m\u001b[0;34m[\u001b[0m\u001b[0;34m'user'\u001b[0m\u001b[0;34m]\u001b[0m\u001b[0;34m[\u001b[0m\u001b[0;34m'screen_name'\u001b[0m\u001b[0;34m]\u001b[0m\u001b[0;34m,\u001b[0m \u001b[0mtweet\u001b[0m\u001b[0;34m[\u001b[0m\u001b[0;34m'text'\u001b[0m\u001b[0;34m]\u001b[0m \u001b[0;34m)\u001b[0m \u001b[0;34m)\u001b[0m\u001b[0;34m\u001b[0m\u001b[0m\n\u001b[1;32m     19\u001b[0m \u001b[0;34m\u001b[0m\u001b[0m\n",
        "\u001b[0;32m/Users/mehdijamei/anaconda/lib/python2.7/site-packages/TwitterSearch-0.78.4-py2.7.egg/TwitterSearch/TwitterSearch.pyc\u001b[0m in \u001b[0;36msearchTweetsIterable\u001b[0;34m(self, order)\u001b[0m\n\u001b[1;32m     90\u001b[0m     \u001b[0;32mdef\u001b[0m \u001b[0msearchTweetsIterable\u001b[0m\u001b[0;34m(\u001b[0m\u001b[0mself\u001b[0m\u001b[0;34m,\u001b[0m \u001b[0morder\u001b[0m\u001b[0;34m)\u001b[0m\u001b[0;34m:\u001b[0m\u001b[0;34m\u001b[0m\u001b[0m\n\u001b[1;32m     91\u001b[0m         \u001b[0;34m\"\"\" Returns itself. Is called when using an instance of this class as iterable \"\"\"\u001b[0m\u001b[0;34m\u001b[0m\u001b[0m\n\u001b[0;32m---> 92\u001b[0;31m         \u001b[0mself\u001b[0m\u001b[0;34m.\u001b[0m\u001b[0msearchTweets\u001b[0m\u001b[0;34m(\u001b[0m\u001b[0morder\u001b[0m\u001b[0;34m)\u001b[0m\u001b[0;34m\u001b[0m\u001b[0m\n\u001b[0m\u001b[1;32m     93\u001b[0m         \u001b[0;32mreturn\u001b[0m \u001b[0mself\u001b[0m\u001b[0;34m\u001b[0m\u001b[0m\n\u001b[1;32m     94\u001b[0m \u001b[0;34m\u001b[0m\u001b[0m\n",
        "\u001b[0;32m/Users/mehdijamei/anaconda/lib/python2.7/site-packages/TwitterSearch-0.78.4-py2.7.egg/TwitterSearch/TwitterSearch.pyc\u001b[0m in \u001b[0;36msearchTweets\u001b[0;34m(self, order)\u001b[0m\n\u001b[1;32m    126\u001b[0m \u001b[0;34m\u001b[0m\u001b[0m\n\u001b[1;32m    127\u001b[0m         \u001b[0mself\u001b[0m\u001b[0;34m.\u001b[0m\u001b[0m_startURL\u001b[0m \u001b[0;34m=\u001b[0m \u001b[0morder\u001b[0m\u001b[0;34m.\u001b[0m\u001b[0mcreateSearchURL\u001b[0m\u001b[0;34m(\u001b[0m\u001b[0;34m)\u001b[0m\u001b[0;34m\u001b[0m\u001b[0m\n\u001b[0;32m--> 128\u001b[0;31m         \u001b[0mself\u001b[0m\u001b[0;34m.\u001b[0m\u001b[0msentSearch\u001b[0m\u001b[0;34m(\u001b[0m\u001b[0mself\u001b[0m\u001b[0;34m.\u001b[0m\u001b[0m_startURL\u001b[0m\u001b[0;34m)\u001b[0m\u001b[0;34m\u001b[0m\u001b[0m\n\u001b[0m\u001b[1;32m    129\u001b[0m         \u001b[0;32mreturn\u001b[0m \u001b[0mself\u001b[0m\u001b[0;34m.\u001b[0m\u001b[0m__response\u001b[0m\u001b[0;34m\u001b[0m\u001b[0m\n\u001b[1;32m    130\u001b[0m \u001b[0;34m\u001b[0m\u001b[0m\n",
        "\u001b[0;32m/Users/mehdijamei/anaconda/lib/python2.7/site-packages/TwitterSearch-0.78.4-py2.7.egg/TwitterSearch/TwitterSearch.pyc\u001b[0m in \u001b[0;36msentSearch\u001b[0;34m(self, url)\u001b[0m\n\u001b[1;32m    105\u001b[0m         \u001b[0;31m# using IDs to request more results - former versions used page parameter\u001b[0m\u001b[0;34m\u001b[0m\u001b[0;34m\u001b[0m\u001b[0m\n\u001b[1;32m    106\u001b[0m         \u001b[0;31m# see https://dev.twitter.com/docs/working-with-timelines\u001b[0m\u001b[0;34m\u001b[0m\u001b[0;34m\u001b[0m\u001b[0m\n\u001b[0;32m--> 107\u001b[0;31m         \u001b[0mgiven_count\u001b[0m \u001b[0;34m=\u001b[0m \u001b[0mint\u001b[0m\u001b[0;34m(\u001b[0m\u001b[0mparse_qs\u001b[0m\u001b[0;34m(\u001b[0m\u001b[0murl\u001b[0m\u001b[0;34m)\u001b[0m\u001b[0;34m[\u001b[0m\u001b[0;34m'count'\u001b[0m\u001b[0;34m]\u001b[0m\u001b[0;34m[\u001b[0m\u001b[0;36m0\u001b[0m\u001b[0;34m]\u001b[0m\u001b[0;34m)\u001b[0m\u001b[0;34m\u001b[0m\u001b[0m\n\u001b[0m\u001b[1;32m    108\u001b[0m         \u001b[0mself\u001b[0m\u001b[0;34m.\u001b[0m\u001b[0m__response\u001b[0m\u001b[0;34m[\u001b[0m\u001b[0;34m'content'\u001b[0m\u001b[0;34m]\u001b[0m \u001b[0;34m=\u001b[0m \u001b[0mr\u001b[0m\u001b[0;34m.\u001b[0m\u001b[0mjson\u001b[0m\u001b[0;34m(\u001b[0m\u001b[0;34m)\u001b[0m\u001b[0;34m\u001b[0m\u001b[0m\n\u001b[1;32m    109\u001b[0m \u001b[0;34m\u001b[0m\u001b[0m\n",
        "\u001b[0;31mKeyError\u001b[0m: 'count'"
       ]
      }
     ],
     "prompt_number": 15
    },
    {
     "cell_type": "code",
     "collapsed": false,
     "input": [
      "def if_in_US(loc,coor,geo):\n",
      "        loc1=\"\"\n",
      "        loc2=\"\"\n",
      "        loc3=\"\"\n",
      "        wait=2\n",
      "        if (loc):\n",
      "            #time.sleep(wait)\n",
      "            print \"here\"\n",
      "            loc1=loc\n",
      "        #if (coor):\n",
      "            #time.sleep(wait)\n",
      "            #loc2=Geocoder.reverse_geocode(coor).coutry\n",
      "            \n",
      "        #if (geo):\n",
      "            #time.sleep(wait)\n",
      "            #loc3=Geocoder.reverse_geocode(geo).country\n",
      "        locs=loc1+loc2+loc3\n",
      "        print \"Locations: \"+locs\n",
      "        if (('United States' in locs) | ('US' in locs)):\n",
      "            return True\n",
      "        return False"
     ],
     "language": "python",
     "metadata": {},
     "outputs": [],
     "prompt_number": 108
    },
    {
     "cell_type": "code",
     "collapsed": false,
     "input": [
      "try:\n",
      "    tso = TwitterSearchOrder()\n",
      "    tso.setKeywords(['#GazaUnderAttack'])\n",
      "    tso.setCount(30)\n",
      "    querystr=tso.createSearchURL()\n",
      "    print querystr\n",
      "    #tso.setSearchURL(querystr+'&-%23IsraelUnderAttack%20-%23IsraelUnderFire%20-pic%20-http:%20%23GazaUnderAttack%20OR%20%23FreePalestine%20OR%20%23FreeGaza%20lang%3Aen&src=typd')\n",
      "    print \n",
      "    #ts = TwitterSearch('aaabbb', 'cccddd', '111222', '333444')\n",
      "\n",
      "    # init variables needed in loop\n",
      "    todo = 1\n",
      "    next_max_id = 0\n",
      "\n",
      "    # let's start the action\n",
      "    while(todo<2):\n",
      "\n",
      "        # first query the Twitter API\n",
      "        response = ts.searchTweets(tso)\n",
      "\n",
      "        # print rate limiting status\n",
      "        print \"Current rate-limiting status: \" + ts.getMetadata()['x-rate-limit-reset']\n",
      "\n",
      "        # check if there are statuses returned and whether we still have work to do\n",
      "        todo=todo+1\n",
      "\n",
      "        # check all tweets according to their ID\n",
      "        #print response\n",
      "        #print response['user']\n",
      "        for tweet in response['content']['statuses']:\n",
      "            print \"location: \"+tweet['user']['location']\n",
      "            print tweet['user']['withheld_in_countries']\n",
      "            print \"Coordinates: \"+str(tweet['coordinates'])\n",
      "            print \"GeoCode: \"+str(tweet['geo'])\n",
      "            #location=findLoc(tweet['user']['location'],tweet['coordinates'],tweet['geo'])\n",
      "            #if_in_US(tweet['user']['location'],tweet['coordinates'],tweet['geo'])\n",
      "            tweet_id = tweet['id']\n",
      "            if (if_in_US(tweet['user']['location'],tweet['coordinates'],tweet['geo'])):\n",
      "                print( 'From '+str(location)+' tweeted: %s' % ( tweet['text'] ) )\n",
      "            #print(\"Seen tweet with ID %i\" % tweet_id)\n",
      "\n",
      "            # current ID is lower than current next_max_id?\n",
      "            \n",
      "            if (tweet_id < next_max_id) or (next_max_id == 0):\n",
      "                next_max_id = tweet_id\n",
      "                next_max_id -= 1 # decrement to avoid seeing this tweet again\n",
      "\n",
      "        # set lowest ID as MaxID\n",
      "        tso.setMaxID(next_max_id)\n",
      "\n",
      "except TwitterSearchException as e:\n",
      "    print(e)"
     ],
     "language": "python",
     "metadata": {},
     "outputs": [
      {
       "output_type": "stream",
       "stream": "stdout",
       "text": [
        "?q=%23GazaUnderAttack&count=30\n",
        "\n",
        "Current rate-limiting status: 1407183025"
       ]
      },
      {
       "output_type": "stream",
       "stream": "stdout",
       "text": [
        "\n",
        "location: \n"
       ]
      },
      {
       "ename": "KeyError",
       "evalue": "'withheld_in_countries'",
       "output_type": "pyerr",
       "traceback": [
        "\u001b[0;31m---------------------------------------------------------------------------\u001b[0m\n\u001b[0;31mKeyError\u001b[0m                                  Traceback (most recent call last)",
        "\u001b[0;32m<ipython-input-111-044cbf6935be>\u001b[0m in \u001b[0;36m<module>\u001b[0;34m()\u001b[0m\n\u001b[1;32m     30\u001b[0m         \u001b[0;32mfor\u001b[0m \u001b[0mtweet\u001b[0m \u001b[0;32min\u001b[0m \u001b[0mresponse\u001b[0m\u001b[0;34m[\u001b[0m\u001b[0;34m'content'\u001b[0m\u001b[0;34m]\u001b[0m\u001b[0;34m[\u001b[0m\u001b[0;34m'statuses'\u001b[0m\u001b[0;34m]\u001b[0m\u001b[0;34m:\u001b[0m\u001b[0;34m\u001b[0m\u001b[0m\n\u001b[1;32m     31\u001b[0m             \u001b[0;32mprint\u001b[0m \u001b[0;34m\"location: \"\u001b[0m\u001b[0;34m+\u001b[0m\u001b[0mtweet\u001b[0m\u001b[0;34m[\u001b[0m\u001b[0;34m'user'\u001b[0m\u001b[0;34m]\u001b[0m\u001b[0;34m[\u001b[0m\u001b[0;34m'location'\u001b[0m\u001b[0;34m]\u001b[0m\u001b[0;34m\u001b[0m\u001b[0m\n\u001b[0;32m---> 32\u001b[0;31m             \u001b[0;32mprint\u001b[0m \u001b[0mtweet\u001b[0m\u001b[0;34m[\u001b[0m\u001b[0;34m'user'\u001b[0m\u001b[0;34m]\u001b[0m\u001b[0;34m[\u001b[0m\u001b[0;34m'withheld_in_countries'\u001b[0m\u001b[0;34m]\u001b[0m\u001b[0;34m\u001b[0m\u001b[0m\n\u001b[0m\u001b[1;32m     33\u001b[0m             \u001b[0;32mprint\u001b[0m \u001b[0;34m\"Coordinates: \"\u001b[0m\u001b[0;34m+\u001b[0m\u001b[0mstr\u001b[0m\u001b[0;34m(\u001b[0m\u001b[0mtweet\u001b[0m\u001b[0;34m[\u001b[0m\u001b[0;34m'coordinates'\u001b[0m\u001b[0;34m]\u001b[0m\u001b[0;34m)\u001b[0m\u001b[0;34m\u001b[0m\u001b[0m\n\u001b[1;32m     34\u001b[0m             \u001b[0;32mprint\u001b[0m \u001b[0;34m\"GeoCode: \"\u001b[0m\u001b[0;34m+\u001b[0m\u001b[0mstr\u001b[0m\u001b[0;34m(\u001b[0m\u001b[0mtweet\u001b[0m\u001b[0;34m[\u001b[0m\u001b[0;34m'geo'\u001b[0m\u001b[0;34m]\u001b[0m\u001b[0;34m)\u001b[0m\u001b[0;34m\u001b[0m\u001b[0m\n",
        "\u001b[0;31mKeyError\u001b[0m: 'withheld_in_countries'"
       ]
      }
     ],
     "prompt_number": 111
    },
    {
     "cell_type": "code",
     "collapsed": false,
     "input": [
      "results = Geocoder.geocode(\"Berkeley, CA\")\n",
      "print(results[0].country)"
     ],
     "language": "python",
     "metadata": {},
     "outputs": [
      {
       "ename": "GeocoderError",
       "evalue": "Error OVER_QUERY_LIMIT\nQuery: https://maps.google.com/maps/api/geocode/json?language=&region=&bounds=&components=&address=Berkeley%2C+CA&sensor=false",
       "output_type": "pyerr",
       "traceback": [
        "\u001b[0;31m---------------------------------------------------------------------------\u001b[0m\n\u001b[0;31mGeocoderError\u001b[0m                             Traceback (most recent call last)",
        "\u001b[0;32m<ipython-input-104-560a57632d43>\u001b[0m in \u001b[0;36m<module>\u001b[0;34m()\u001b[0m\n\u001b[0;32m----> 1\u001b[0;31m \u001b[0mresults\u001b[0m \u001b[0;34m=\u001b[0m \u001b[0mGeocoder\u001b[0m\u001b[0;34m.\u001b[0m\u001b[0mgeocode\u001b[0m\u001b[0;34m(\u001b[0m\u001b[0;34m\"Berkeley, CA\"\u001b[0m\u001b[0;34m)\u001b[0m\u001b[0;34m\u001b[0m\u001b[0m\n\u001b[0m\u001b[1;32m      2\u001b[0m \u001b[0;32mprint\u001b[0m\u001b[0;34m(\u001b[0m\u001b[0mresults\u001b[0m\u001b[0;34m[\u001b[0m\u001b[0;36m0\u001b[0m\u001b[0;34m]\u001b[0m\u001b[0;34m.\u001b[0m\u001b[0mcountry\u001b[0m\u001b[0;34m)\u001b[0m\u001b[0;34m\u001b[0m\u001b[0m\n",
        "\u001b[0;32m/Users/mehdijamei/anaconda/lib/python2.7/site-packages/pygeocoder.pyc\u001b[0m in \u001b[0;36mgeocode\u001b[0;34m(self, address, sensor, bounds, region, language, components)\u001b[0m\n\u001b[1;32m    127\u001b[0m             \u001b[0;32mreturn\u001b[0m \u001b[0mGeocoderResult\u001b[0m\u001b[0;34m(\u001b[0m\u001b[0mself\u001b[0m\u001b[0;34m.\u001b[0m\u001b[0mget_data\u001b[0m\u001b[0;34m(\u001b[0m\u001b[0mparams\u001b[0m\u001b[0;34m=\u001b[0m\u001b[0mparams\u001b[0m\u001b[0;34m)\u001b[0m\u001b[0;34m)\u001b[0m\u001b[0;34m\u001b[0m\u001b[0m\n\u001b[1;32m    128\u001b[0m         \u001b[0;32melse\u001b[0m\u001b[0;34m:\u001b[0m\u001b[0;34m\u001b[0m\u001b[0m\n\u001b[0;32m--> 129\u001b[0;31m             \u001b[0;32mreturn\u001b[0m \u001b[0mGeocoderResult\u001b[0m\u001b[0;34m(\u001b[0m\u001b[0mGeocoder\u001b[0m\u001b[0;34m.\u001b[0m\u001b[0mget_data\u001b[0m\u001b[0;34m(\u001b[0m\u001b[0mparams\u001b[0m\u001b[0;34m=\u001b[0m\u001b[0mparams\u001b[0m\u001b[0;34m)\u001b[0m\u001b[0;34m)\u001b[0m\u001b[0;34m\u001b[0m\u001b[0m\n\u001b[0m\u001b[1;32m    130\u001b[0m \u001b[0;34m\u001b[0m\u001b[0m\n\u001b[1;32m    131\u001b[0m     \u001b[0;34m@\u001b[0m\u001b[0momnimethod\u001b[0m\u001b[0;34m\u001b[0m\u001b[0m\n",
        "\u001b[0;32m/Users/mehdijamei/anaconda/lib/python2.7/site-packages/pygeocoder.pyc\u001b[0m in \u001b[0;36mget_data\u001b[0;34m(self, params)\u001b[0m\n\u001b[1;32m    210\u001b[0m \u001b[0;34m\u001b[0m\u001b[0m\n\u001b[1;32m    211\u001b[0m         \u001b[0;32mif\u001b[0m \u001b[0mresponse_json\u001b[0m\u001b[0;34m[\u001b[0m\u001b[0;34m'status'\u001b[0m\u001b[0;34m]\u001b[0m \u001b[0;34m!=\u001b[0m \u001b[0mGeocoderError\u001b[0m\u001b[0;34m.\u001b[0m\u001b[0mG_GEO_OK\u001b[0m\u001b[0;34m:\u001b[0m\u001b[0;34m\u001b[0m\u001b[0m\n\u001b[0;32m--> 212\u001b[0;31m             \u001b[0;32mraise\u001b[0m \u001b[0mGeocoderError\u001b[0m\u001b[0;34m(\u001b[0m\u001b[0mresponse_json\u001b[0m\u001b[0;34m[\u001b[0m\u001b[0;34m'status'\u001b[0m\u001b[0;34m]\u001b[0m\u001b[0;34m,\u001b[0m \u001b[0mresponse\u001b[0m\u001b[0;34m.\u001b[0m\u001b[0murl\u001b[0m\u001b[0;34m)\u001b[0m\u001b[0;34m\u001b[0m\u001b[0m\n\u001b[0m\u001b[1;32m    213\u001b[0m         \u001b[0;32mreturn\u001b[0m \u001b[0mresponse_json\u001b[0m\u001b[0;34m[\u001b[0m\u001b[0;34m'results'\u001b[0m\u001b[0;34m]\u001b[0m\u001b[0;34m\u001b[0m\u001b[0m\n\u001b[1;32m    214\u001b[0m \u001b[0;34m\u001b[0m\u001b[0m\n",
        "\u001b[0;31mGeocoderError\u001b[0m: Error OVER_QUERY_LIMIT\nQuery: https://maps.google.com/maps/api/geocode/json?language=&region=&bounds=&components=&address=Berkeley%2C+CA&sensor=false"
       ]
      }
     ],
     "prompt_number": 104
    },
    {
     "cell_type": "code",
     "collapsed": false,
     "input": [
      "from twitter import *\n",
      "\n",
      "import sys\n",
      "import csv\n",
      "\n",
      "# create twitter API object\n",
      "twitter = Twitter()\n",
      "\n",
      "# open a file to write (mode \"w\"), and create a CSV writer object\n",
      "csvfile = file(\"output.csv\", \"w\")\n",
      "csvwriter = csv.writer(csvfile)\n",
      "\n",
      "# add headings to our CSV file\n",
      "row = [ \"user\", \"text\", \"latitude\", \"longitude\" ]\n",
      "csvwriter.writerow(row)\n",
      "\n",
      "# the twitter API only allows us to query up to 100 tweets at a time.\n",
      "# to search for more, we will break our search up into 10 \"pages\", each\n",
      "# of which will include 100 matching tweets.\n",
      "for pagenum in range(1, 11):\n",
      "\n",
      "\t# perform a search based on latitude and longitude\n",
      "\t# twitter API docs: https://dev.twitter.com/docs/api/1/get/search\n",
      "\tquery = twitter.search(q = \"\", geocode = \"51.474144,-0.035401,1km\", rpp = 100, page = pagenum)\n",
      "\n",
      "\tfor result in query[\"results\"]:\n",
      "\t\t# only process a result if it has a geolocation\n",
      "\t\tif result[\"geo\"]:\n",
      "\t\t\tuser = result[\"from_user\"]\n",
      "\t\t\ttext = result[\"text\"]\n",
      "\t\t\ttext = text.encode('ascii', 'replace')\n",
      "\t\t\tlatitude = result[\"geo\"][\"coordinates\"][0]\n",
      "\t\t\tlongitude = result[\"geo\"][\"coordinates\"][1]\n",
      "\n",
      "\t\t\t# now write this row to our CSV file\n",
      "\t\t\trow = [ user, text, latitude, longitude ]\n",
      "\t\t\tcsvwriter.writerow(row)\n",
      "\n",
      "\t# let the user know where we're up to\n",
      "\tprint \"done page: %d\" % (pagenum)\n",
      "\n",
      "# we're all finished, clean up and go home.\n",
      "csvfile.close()"
     ],
     "language": "python",
     "metadata": {},
     "outputs": [
      {
       "ename": "NameError",
       "evalue": "name 'Twitter' is not defined",
       "output_type": "pyerr",
       "traceback": [
        "\u001b[0;31m---------------------------------------------------------------------------\u001b[0m\n\u001b[0;31mNameError\u001b[0m                                 Traceback (most recent call last)",
        "\u001b[0;32m<ipython-input-116-d615e94444b4>\u001b[0m in \u001b[0;36m<module>\u001b[0;34m()\u001b[0m\n\u001b[1;32m      5\u001b[0m \u001b[0;34m\u001b[0m\u001b[0m\n\u001b[1;32m      6\u001b[0m \u001b[0;31m# create twitter API object\u001b[0m\u001b[0;34m\u001b[0m\u001b[0;34m\u001b[0m\u001b[0m\n\u001b[0;32m----> 7\u001b[0;31m \u001b[0mtwitter\u001b[0m \u001b[0;34m=\u001b[0m \u001b[0mTwitter\u001b[0m\u001b[0;34m(\u001b[0m\u001b[0;34m)\u001b[0m\u001b[0;34m\u001b[0m\u001b[0m\n\u001b[0m\u001b[1;32m      8\u001b[0m \u001b[0;34m\u001b[0m\u001b[0m\n\u001b[1;32m      9\u001b[0m \u001b[0;31m# open a file to write (mode \"w\"), and create a CSV writer object\u001b[0m\u001b[0;34m\u001b[0m\u001b[0;34m\u001b[0m\u001b[0m\n",
        "\u001b[0;31mNameError\u001b[0m: name 'Twitter' is not defined"
       ]
      }
     ],
     "prompt_number": 116
    },
    {
     "cell_type": "code",
     "collapsed": false,
     "input": [],
     "language": "python",
     "metadata": {},
     "outputs": []
    },
    {
     "cell_type": "code",
     "collapsed": false,
     "input": [],
     "language": "python",
     "metadata": {},
     "outputs": []
    }
   ],
   "metadata": {}
  }
 ]
}